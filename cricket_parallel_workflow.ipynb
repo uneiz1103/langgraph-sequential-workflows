{
 "cells": [
  {
   "cell_type": "code",
   "execution_count": 72,
   "id": "15bf70b6",
   "metadata": {},
   "outputs": [],
   "source": [
    "from langgraph.graph import StateGraph, START, END\n",
    "from typing import TypedDict"
   ]
  },
  {
   "cell_type": "code",
   "execution_count": 73,
   "id": "6a860f24",
   "metadata": {},
   "outputs": [],
   "source": [
    "class BatsmanState(TypedDict):\n",
    "    runs: int\n",
    "    balls: int\n",
    "    fours: int\n",
    "    sixes: int\n",
    "\n",
    "    sr : float #strike rate\n",
    "    bpb: float #balls per boundary\n",
    "    boundary_percent : float #boundary percent\n",
    "    summary: str"
   ]
  },
  {
   "cell_type": "code",
   "execution_count": 74,
   "id": "9630dbf8",
   "metadata": {},
   "outputs": [],
   "source": [
    "def calculate_sr(state: BatsmanState):\n",
    "    \n",
    "    # Batting Strike Rate = (Total Runs Scored / Total Balls Faced) * 100 \n",
    "\n",
    "    balls = state['balls']\n",
    "    runs = state['runs']\n",
    "\n",
    "    sr = (runs / balls) * 100\n",
    "\n",
    "    return {'sr': sr}"
   ]
  },
  {
   "cell_type": "code",
   "execution_count": 75,
   "id": "061e94e2",
   "metadata": {},
   "outputs": [],
   "source": [
    "def calculate_boundary_percent(state: BatsmanState):\n",
    "    \n",
    "    # Boundary Percentage = (Total Runs Scored Through Boundaries / Total Runs Scored) x 100\n",
    "\n",
    "    runs = state['runs']\n",
    "    fours = state['fours']\n",
    "    sixes = state['sixes']\n",
    "\n",
    "    boundary_percent = (((fours*4) + (sixes*6)) / runs) * 100\n",
    "\n",
    "    return {'boundary_percent': boundary_percent}"
   ]
  },
  {
   "cell_type": "code",
   "execution_count": null,
   "id": "514099ad",
   "metadata": {},
   "outputs": [],
   "source": [
    "def calculate_bpb(state: BatsmanState):\n",
    "\n",
    "    # Balls per Boundary = Total Balls Played / Total Boundaries Hit\n",
    "\n",
    "    balls = state['balls']\n",
    "    sixes = state['sixes']\n",
    "    fours = state['fours']\n",
    "\n",
    "    bpb = balls / (sixes + fours)\n",
    "\n",
    "\n",
    "    return {'bpb': bpb}"
   ]
  },
  {
   "cell_type": "code",
   "execution_count": 77,
   "id": "250f3ffc",
   "metadata": {},
   "outputs": [],
   "source": [
    "def summary(state: BatsmanState) -> BatsmanState:\n",
    "    \n",
    "    summary = f\"\"\"\n",
    "strike rate - {state['sr']} \\n\n",
    "Balls per boundary - {state['bpb']} \\n\n",
    "Boundary percent - {state['boundary_percent']}\n",
    "\"\"\"\n",
    "    {'summary': summary}"
   ]
  },
  {
   "cell_type": "code",
   "execution_count": 78,
   "id": "fcfb2f81",
   "metadata": {},
   "outputs": [
    {
     "data": {
      "image/png": "[encoded data removed]",
      "text/plain": [
       "<langgraph.graph.state.CompiledStateGraph object at 0x000001DED7EB5750>"
      ]
     },
     "execution_count": 78,
     "metadata": {},
     "output_type": "execute_result"
    }
   ],
   "source": [
    "graph = StateGraph(BatsmanState)\n",
    "\n",
    "# nodes\n",
    "graph.add_node('calculate_sr', calculate_sr)\n",
    "graph.add_node('calculate_bpb', calculate_bpb)\n",
    "graph.add_node('calculate_boundary_percent', calculate_boundary_percent)\n",
    "graph.add_node('summary', summary)\n",
    "\n",
    "# edges\n",
    "\n",
    "graph.add_edge(START, 'calculate_sr')\n",
    "graph.add_edge(START, 'calculate_bpb')\n",
    "graph.add_edge(START, 'calculate_boundary_percent')\n",
    "\n",
    "graph.add_edge('calculate_sr', 'summary')\n",
    "graph.add_edge('calculate_bpb', 'summary')\n",
    "graph.add_edge('calculate_boundary_percent', 'summary')\n",
    "\n",
    "graph.add_edge('summary', END)\n",
    "\n",
    "workflow = graph.compile()\n",
    "\n",
    "workflow"
   ]
  },
  {
   "cell_type": "code",
   "execution_count": 79,
   "id": "d93544b5",
   "metadata": {},
   "outputs": [
    {
     "data": {
      "text/plain": [
       "{'runs': 100,\n",
       " 'balls': 50,\n",
       " 'fours': 6,\n",
       " 'sixes': 6,\n",
       " 'sr': 200.0,\n",
       " 'bpb': 4.166666666666667,\n",
       " 'boundary_percent': 60.0}"
      ]
     },
     "execution_count": 79,
     "metadata": {},
     "output_type": "execute_result"
    }
   ],
   "source": [
    "initial_state = {\n",
    "    'runs': 100,\n",
    "    'balls': 50,\n",
    "    'fours': 6,\n",
    "    'sixes': 6\n",
    "}\n",
    "\n",
    "workflow.invoke(initial_state)\n"
   ]
  }
 ],
 "metadata": {
  "kernelspec": {
   "display_name": "venv (3.11.9)",
   "language": "python",
   "name": "python3"
  },
  "language_info": {
   "codemirror_mode": {
    "name": "ipython",
    "version": 3
   },
   "file_extension": ".py",
   "mimetype": "text/x-python",
   "name": "python",
   "nbconvert_exporter": "python",
   "pygments_lexer": "ipython3",
   "version": "3.11.9"
  }
 },
 "nbformat": 4,
 "nbformat_minor": 5
}
