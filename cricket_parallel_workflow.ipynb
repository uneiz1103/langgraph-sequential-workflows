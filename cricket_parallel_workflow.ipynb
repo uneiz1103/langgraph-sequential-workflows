{
 "cells": [
  {
   "cell_type": "code",
   "execution_count": null,
   "id": "15bf70b6",
   "metadata": {},
   "outputs": [],
   "source": [
    "from langgraph.graph import StateGraph\n",
    "from typing import TypedDict"
   ]
  },
  {
   "cell_type": "code",
   "execution_count": null,
   "id": "6a860f24",
   "metadata": {},
   "outputs": [],
   "source": [
    "class BatsmanState(TypedDict):\n",
    "    sr : float\n",
    "    br : float"
   ]
  }
 ],
 "metadata": {
  "language_info": {
   "name": "python"
  }
 },
 "nbformat": 4,
 "nbformat_minor": 5
}
