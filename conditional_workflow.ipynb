{
 "cells": [
  {
   "cell_type": "code",
   "execution_count": 132,
   "id": "08fa73b9",
   "metadata": {},
   "outputs": [],
   "source": [
    "from langgraph.graph import StateGraph, START, END\n",
    "from typing import TypedDict, Literal"
   ]
  },
  {
   "cell_type": "code",
   "execution_count": 133,
   "id": "9d694815",
   "metadata": {},
   "outputs": [],
   "source": [
    "class QuadState(TypedDict):\n",
    "    a : int\n",
    "    b : int\n",
    "    c : int\n",
    "\n",
    "    equation : str\n",
    "    discriminant : float\n",
    "    result : str"
   ]
  },
  {
   "cell_type": "code",
   "execution_count": 134,
   "id": "684b7944",
   "metadata": {},
   "outputs": [],
   "source": [
    "def show_equation(state: QuadState):\n",
    "    \n",
    "    equation = f'{state[\"a\"]}x2{state[\"b\"]}x{state[\"c\"]}'\n",
    "\n",
    "    return {'equation': equation}"
   ]
  },
  {
   "cell_type": "code",
   "execution_count": 135,
   "id": "1cd13df4",
   "metadata": {},
   "outputs": [],
   "source": [
    "def calculate_discriminant(state: QuadState):\n",
    "\n",
    "    discriminant = state[\"b\"]**2 - (4*state[\"a\"]*state[\"c\"])\n",
    "\n",
    "    return {'discriminant': discriminant}\n",
    "             \n",
    "\n"
   ]
  },
  {
   "cell_type": "code",
   "execution_count": 136,
   "id": "ff8a8c64",
   "metadata": {},
   "outputs": [],
   "source": [
    "def real_roots(state: QuadState):\n",
    "\n",
    "    root1 = (-state['b'] + state['discriminant']**0.5) / (2*state['a'])\n",
    "    root2 = (-state['b'] - state['discriminant']**0.5) / (2*state['a'])\n",
    "    result = f'The roots are {root1} and {root2}'\n",
    "\n",
    "    return {'result': result}"
   ]
  },
  {
   "cell_type": "code",
   "execution_count": 137,
   "id": "12061a90",
   "metadata": {},
   "outputs": [],
   "source": [
    "def repeated_roots(state: QuadState):\n",
    "\n",
    "    root = (-state['b']) / (2*state['a'])\n",
    "\n",
    "    result = f'Only repeating root is {root}'\n",
    "\n",
    "    return {'result': result}"
   ]
  },
  {
   "cell_type": "code",
   "execution_count": 138,
   "id": "bff1e86d",
   "metadata": {},
   "outputs": [],
   "source": [
    "def no_real_roots(state: QuadState):\n",
    "\n",
    "    result = f'No real roots'\n",
    "\n",
    "    return {'result': result}"
   ]
  },
  {
   "cell_type": "code",
   "execution_count": 139,
   "id": "9b69d8f1",
   "metadata": {},
   "outputs": [],
   "source": [
    "def check_condition(state: QuadState) -> Literal[\"real_roots\", \"repeated_roots\", \"no_real_roots\"]:\n",
    "\n",
    "    if state['discriminant'] > 0:\n",
    "        return \"real_roots\"\n",
    "    elif state['discriminant'] == 0:\n",
    "        return \"repeated_roots\"\n",
    "    else: \n",
    "        return \"no_real_roots\""
   ]
  },
  {
   "cell_type": "code",
   "execution_count": 140,
   "id": "1006d5f1",
   "metadata": {},
   "outputs": [
    {
     "data": {
      "image/png": "[encoded data removed]",
      "text/plain": [
       "<langgraph.graph.state.CompiledStateGraph object at 0x00000230580166D0>"
      ]
     },
     "execution_count": 140,
     "metadata": {},
     "output_type": "execute_result"
    }
   ],
   "source": [
    "graph = StateGraph(QuadState)\n",
    "\n",
    "graph.add_node('show_equation', show_equation)\n",
    "graph.add_node('calculate_discriminant', calculate_discriminant)\n",
    "graph.add_node('real_roots', real_roots)\n",
    "graph.add_node('repeated_roots' , repeated_roots)\n",
    "graph.add_node('no_real_roots', no_real_roots)\n",
    "\n",
    "graph.add_edge(START, 'show_equation')\n",
    "graph.add_edge('show_equation', 'calculate_discriminant')\n",
    "\n",
    "graph.add_conditional_edges('calculate_discriminant', check_condition)\n",
    "\n",
    "graph.add_edge('real_roots' , END)\n",
    "graph.add_edge('repeated_roots' , END)\n",
    "graph.add_edge('no_real_roots' , END)\n",
    "\n",
    "workflow = graph.compile()\n",
    "\n",
    "workflow"
   ]
  },
  {
   "cell_type": "code",
   "execution_count": 141,
   "id": "e2626d28",
   "metadata": {},
   "outputs": [
    {
     "data": {
      "text/plain": [
       "{'a': 4,\n",
       " 'b': -5,\n",
       " 'c': -4,\n",
       " 'equation': '4x2-5x-4',\n",
       " 'discriminant': 89,\n",
       " 'result': 'The roots are 1.8042476415070754 and -0.5542476415070754'}"
      ]
     },
     "execution_count": 141,
     "metadata": {},
     "output_type": "execute_result"
    }
   ],
   "source": [
    "initial_state = {\n",
    "    'a' : 4,\n",
    "    'b' : -5,\n",
    "    'c' : -4\n",
    "}\n",
    "\n",
    "workflow.invoke(initial_state)\n"
   ]
  }
 ],
 "metadata": {
  "kernelspec": {
   "display_name": "venv (3.11.9)",
   "language": "python",
   "name": "python3"
  },
  "language_info": {
   "codemirror_mode": {
    "name": "ipython",
    "version": 3
   },
   "file_extension": ".py",
   "mimetype": "text/x-python",
   "name": "python",
   "nbconvert_exporter": "python",
   "pygments_lexer": "ipython3",
   "version": "3.11.9"
  }
 },
 "nbformat": 4,
 "nbformat_minor": 5
}
