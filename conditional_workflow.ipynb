{
 "cells": [
  {
   "cell_type": "code",
   "execution_count": 7,
   "id": "08fa73b9",
   "metadata": {},
   "outputs": [],
   "source": [
    "from langgraph.graph import StateGraph, START, END\n",
    "from typing import TypedDict"
   ]
  },
  {
   "cell_type": "code",
   "execution_count": 8,
   "id": "9d694815",
   "metadata": {},
   "outputs": [],
   "source": [
    "class QuadState(TypedDict):\n",
    "    a : int\n",
    "    b : int\n",
    "    c : int\n",
    "\n",
    "    equation = str\n",
    "    discriminant = float\n",
    "    result = str"
   ]
  },
  {
   "cell_type": "code",
   "execution_count": 9,
   "id": "684b7944",
   "metadata": {},
   "outputs": [],
   "source": [
    "def show_equation(state: QuadState):\n",
    "    \n",
    "    equation = f'{state[\"a\"]}x2{state[\"b\"]}x{state[\"c\"]}'\n",
    "\n",
    "    return {'equation': equation}"
   ]
  },
  {
   "cell_type": "code",
   "execution_count": 10,
   "id": "1cd13df4",
   "metadata": {},
   "outputs": [],
   "source": [
    "def calculate_discriminant(state: QuadState):\n",
    "\n",
    "    discriminant = (state['b']**2) - (4 * state['a'] * state['c'])\n",
    "\n",
    "    return {'discriminant' :discriminant}\n",
    "\n"
   ]
  },
  {
   "cell_type": "code",
   "execution_count": 11,
   "id": "1006d5f1",
   "metadata": {},
   "outputs": [
    {
     "data": {
      "text/plain": [
       "<langgraph.graph.state.StateGraph at 0x2305735c550>"
      ]
     },
     "execution_count": 11,
     "metadata": {},
     "output_type": "execute_result"
    }
   ],
   "source": [
    "graph = StateGraph(QuadState)\n",
    "\n",
    "graph.add_node('show_equation', show_equation)\n",
    "graph.add_node('calculate_discriminant', calculate_discriminant)\n",
    "\n",
    "graph.add_edge(START, 'show_equation')\n",
    "graph.add_edge('show_equation', 'calculate_discriminant')"
   ]
  },
  {
   "cell_type": "code",
   "execution_count": 12,
   "id": "e2626d28",
   "metadata": {},
   "outputs": [],
   "source": [
    "initial_state = {\n",
    "    'a' : 4,\n",
    "    'b' : -5,\n",
    "    'c' : -4\n",
    "}"
   ]
  }
 ],
 "metadata": {
  "kernelspec": {
   "display_name": "venv (3.11.9)",
   "language": "python",
   "name": "python3"
  },
  "language_info": {
   "codemirror_mode": {
    "name": "ipython",
    "version": 3
   },
   "file_extension": ".py",
   "mimetype": "text/x-python",
   "name": "python",
   "nbconvert_exporter": "python",
   "pygments_lexer": "ipython3",
   "version": "3.11.9"
  }
 },
 "nbformat": 4,
 "nbformat_minor": 5
}
