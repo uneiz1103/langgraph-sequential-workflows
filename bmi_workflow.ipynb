{
 "cells": [
  {
   "cell_type": "code",
   "execution_count": 51,
   "id": "ea03f7c2",
   "metadata": {},
   "outputs": [],
   "source": [
    "from langgraph.graph import StateGraph , START, END\n",
    "from typing import TypedDict"
   ]
  },
  {
   "cell_type": "code",
   "execution_count": 52,
   "id": "6f958892",
   "metadata": {},
   "outputs": [],
   "source": [
    "# define State\n",
    "class BMIState(TypedDict):\n",
    "    weight_kg: float\n",
    "    height_m: float\n",
    "    bmi: float\n"
   ]
  },
  {
   "cell_type": "code",
   "execution_count": 53,
   "id": "e36e706b",
   "metadata": {},
   "outputs": [],
   "source": [
    "def calculate_bmi(state: BMIState) -> BMIState:\n",
    "    \n",
    "    weight = state['weight_kg']\n",
    "    height = state['height_m']\n",
    "    bmi = weight / (height ** 2)\n",
    "\n",
    "    state['bmi'] = round(bmi, 2)\n",
    "\n",
    "    return state\n"
   ]
  },
  {
   "cell_type": "code",
   "execution_count": 54,
   "id": "bbae79a8",
   "metadata": {},
   "outputs": [],
   "source": [
    "# define your graph\n",
    "graph = StateGraph(BMIState)"
   ]
  },
  {
   "cell_type": "code",
   "execution_count": 55,
   "id": "cc85b1bd",
   "metadata": {},
   "outputs": [
    {
     "data": {
      "text/plain": [
       "<langgraph.graph.state.StateGraph at 0x1a29d2d7e50>"
      ]
     },
     "execution_count": 55,
     "metadata": {},
     "output_type": "execute_result"
    }
   ],
   "source": [
    "# add nodes to your graph\n",
    "graph.add_node('calculate_bmi', calculate_bmi)"
   ]
  },
  {
   "cell_type": "code",
   "execution_count": 56,
   "id": "a8f700c8",
   "metadata": {},
   "outputs": [
    {
     "data": {
      "text/plain": [
       "<langgraph.graph.state.StateGraph at 0x1a29d2d7e50>"
      ]
     },
     "execution_count": 56,
     "metadata": {},
     "output_type": "execute_result"
    }
   ],
   "source": [
    "# add edges to your graph\n",
    "graph.add_edge(START, 'calculate_bmi')\n",
    "graph.add_edge('calculate_bmi', END)"
   ]
  },
  {
   "cell_type": "code",
   "execution_count": 57,
   "id": "2b51f2ca",
   "metadata": {},
   "outputs": [],
   "source": [
    "# compile the graph\n",
    "workflow = graph.compile()"
   ]
  },
  {
   "cell_type": "code",
   "execution_count": 58,
   "id": "e7922799",
   "metadata": {},
   "outputs": [
    {
     "name": "stdout",
     "output_type": "stream",
     "text": [
      "{'weight_kg': 80, 'height_m': 1.73, 'bmi': 26.73}\n"
     ]
    }
   ],
   "source": [
    "initial_state = {'weight_kg': 80, 'height_m': 1.73}\n",
    "\n",
    "final_state = workflow.invoke(initial_state)\n",
    "\n",
    "print(final_state)"
   ]
  }
 ],
 "metadata": {
  "kernelspec": {
   "display_name": "venv (3.11.9)",
   "language": "python",
   "name": "python3"
  },
  "language_info": {
   "codemirror_mode": {
    "name": "ipython",
    "version": 3
   },
   "file_extension": ".py",
   "mimetype": "text/x-python",
   "name": "python",
   "nbconvert_exporter": "python",
   "pygments_lexer": "ipython3",
   "version": "3.11.9"
  }
 },
 "nbformat": 4,
 "nbformat_minor": 5
}
