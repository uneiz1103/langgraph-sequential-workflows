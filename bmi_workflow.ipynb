{
 "cells": [
  {
   "cell_type": "code",
   "execution_count": null,
   "id": "ea03f7c2",
   "metadata": {},
   "outputs": [],
   "source": [
    "from langgraph.graph import StateGraph\n",
    "from typing import TypedDict"
   ]
  },
  {
   "cell_type": "code",
   "execution_count": null,
   "id": "6f958892",
   "metadata": {},
   "outputs": [],
   "source": [
    "# define your graph\n",
    "class BMIState(TypedDict):\n",
    "    weight_kg: float\n",
    "    height_m: float\n",
    "    bmi: float\n"
   ]
  },
  {
   "cell_type": "code",
   "execution_count": null,
   "id": "1ec6885b",
   "metadata": {},
   "outputs": [],
   "source": [
    "def calculate_bmi =  "
   ]
  },
  {
   "cell_type": "code",
   "execution_count": null,
   "id": "bbae79a8",
   "metadata": {},
   "outputs": [],
   "source": [
    "# define your  graph\n",
    "graph = StateGraph(BMIState)\n",
    "    \n",
    "# add nodes to graph\n",
    "\n",
    "# add edges to graph\n",
    "\n",
    "# compile the graph\n",
    "\n",
    "# execute the graph"
   ]
  }
 ],
 "metadata": {
  "kernelspec": {
   "display_name": "venv (3.11.9)",
   "language": "python",
   "name": "python3"
  },
  "language_info": {
   "codemirror_mode": {
    "name": "ipython",
    "version": 3
   },
   "file_extension": ".py",
   "mimetype": "text/x-python",
   "name": "python",
   "nbconvert_exporter": "python",
   "pygments_lexer": "ipython3",
   "version": "3.11.9"
  }
 },
 "nbformat": 4,
 "nbformat_minor": 5
}
