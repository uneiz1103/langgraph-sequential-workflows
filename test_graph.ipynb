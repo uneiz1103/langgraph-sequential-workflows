{
 "cells": [
  {
   "cell_type": "code",
   "execution_count": 4,
   "id": "08a7dea1",
   "metadata": {},
   "outputs": [],
   "source": [
    "from langgraph.graph import StateGraph "
   ]
  }
 ],
 "metadata": {
  "kernelspec": {
   "display_name": "venv (3.11.9)",
   "language": "python",
   "name": "python3"
  },
  "language_info": {
   "codemirror_mode": {
    "name": "ipython",
    "version": 3
   },
   "file_extension": ".py",
   "mimetype": "text/x-python",
   "name": "python",
   "nbconvert_exporter": "python",
   "pygments_lexer": "ipython3",
   "version": "3.11.9"
  }
 },
 "nbformat": 4,
 "nbformat_minor": 5
}
